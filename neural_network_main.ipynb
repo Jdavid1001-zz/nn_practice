{
 "cells": [
  {
   "cell_type": "code",
   "execution_count": 4,
   "metadata": {
    "collapsed": true
   },
   "outputs": [],
   "source": [
    "import numpy as np"
   ]
  },
  {
   "cell_type": "markdown",
   "metadata": {},
   "source": [
    "# Neural Network Practice\n",
    "** objectives: **\n",
    "1. Create my own neural network implementation\n",
    "1. Explain the math behind each aspect of neural network\n",
    "1. Use clean code (esp dependency ejection) practices\n",
    "\n",
    "\\* Using Welch Lab's Youtube video series: Neural Networks Demystified as reference"
   ]
  },
  {
   "cell_type": "markdown",
   "metadata": {},
   "source": [
    "## Neural Network Implementation\n",
    "### Multilayer Perceptron\n",
    "The our current implementation of neural network will be a multilayer perceptron model. Here, we will have multiple perceptrons connected that pass information between forward to each other."
   ]
  },
  {
   "cell_type": "code",
   "execution_count": 2,
   "metadata": {
    "collapsed": true
   },
   "outputs": [],
   "source": [
    "class Neural_Network():\n",
    "    def __init__(self, layers=[2, 1, 3]):\n",
    "        self.inputLayerSize = 2\n",
    "        self.outputLayerSize = 1\n",
    "        self.hiddenLayerSize = 3\n",
    "    def forward(self, X):\n",
    "        #Propagate inputs through network\n",
    "        pass\n",
    "    "
   ]
  },
  {
   "cell_type": "markdown",
   "metadata": {},
   "source": [
    "## Activation Function\n",
    "- Defines the output of a node given inputs.\n",
    "- In the biological sense, the activation function is a way to represent the rate of action potential firing in a call.\n",
    "- In the most simple form, the activation function is binary (either the node/cell is firing or not).\n",
    "- The activation function can be any type of function as long as the function:\n",
    "    - is motonically increasing/decreasing\n",
    "    - is continuously differentiable (for backpropagation)\n",
    "    - is smooth; has a monotonic derivative\n",
    "    - is preferably not linear (for qucker and more stable convergence)\n",
    "    - has $f(x) \\approx x$ when $x \\approx 0$ characteristic (so that training is more efficient after the weights have been initialized w/ small random values)"
   ]
  },
  {
   "cell_type": "markdown",
   "metadata": {},
   "source": [
    "### Sigmoid Function\n",
    "Sigmoid function is any mathematical function having an \"S\" shape. These \"S\" shapes functions meet the aforementioned requirements.\n",
    "\n",
    "#### Logistic Function\n",
    "Most popular sigmoid function. The function was named when studying population growth--the initial stage of growth is approx exponential and then, as saturation begins, the growth slows and, at maturity (at/near $+\\infty$), growth stops.\n",
    "\n",
    "Function given by:\n",
    "\\begin{align}\n",
    "f(x) = \\dfrac{L}{1+e^{-k(x-x_0)}}\n",
    "\\end{align}\n",
    "Where $L$ is the curve's maximum value, $x_0$ is the curve's midpoint in the x-axis and $k$ is the curve's steepness.\n",
    "\n",
    "For our purposes, we want the the maximum value to be 1. We also want the midpoint to be 0, so that way, if the input is positive, then the output will tend to 1 and, if the input is negative, the output will tend to 0. The steepness $k$ of the function helps with how quickly and well the network converges.\n",
    "\n",
    "Therefore, our function becomes:\n",
    "\\begin{align}\n",
    "f(x) = \\dfrac{1}{1+e^{-k(x)}}\n",
    "\\end{align}\n",
    "\n",
    "The logistic function's derivative is:\n",
    "\\begin{align}\n",
    "f'(x) = \\dfrac{ke^{-kx}}{1+e^{-k(x)}}\n",
    "\\end{align}\n",
    "\n",
    "Or written differently:\n",
    "\\begin{align}\n",
    "f'(x) = \\dfrac{1}{1+e^{-k(x)}}(1 - \\dfrac{1}{1+e^{-k(x)}})\n",
    "\\end{align}\n",
    "or:\n",
    "\\begin{align}\n",
    "f'(x) = f(x)(1 - f(x))\n",
    "\\end{align}"
   ]
  },
  {
   "cell_type": "code",
   "execution_count": 5,
   "metadata": {
    "collapsed": true
   },
   "outputs": [],
   "source": [
    "def logistic(z, k=1.0):\n",
    "    return 1/(1 + np.exp(-k*z))"
   ]
  },
  {
   "cell_type": "code",
   "execution_count": null,
   "metadata": {
    "collapsed": true
   },
   "outputs": [],
   "source": []
  }
 ],
 "metadata": {
  "kernelspec": {
   "display_name": "Python 2",
   "language": "python",
   "name": "python2"
  },
  "language_info": {
   "codemirror_mode": {
    "name": "ipython",
    "version": 2
   },
   "file_extension": ".py",
   "mimetype": "text/x-python",
   "name": "python",
   "nbconvert_exporter": "python",
   "pygments_lexer": "ipython2",
   "version": "2.7.11"
  }
 },
 "nbformat": 4,
 "nbformat_minor": 0
}
