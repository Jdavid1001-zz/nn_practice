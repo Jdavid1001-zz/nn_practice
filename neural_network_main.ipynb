{
 "cells": [
  {
   "cell_type": "markdown",
   "metadata": {},
   "source": [
    "# Neural Network Practice\n",
    "** objectives: **\n",
    "1. Create my own neural network implementation\n",
    "1. Explain the math behind each aspect of neural network\n",
    "1. Use clean code (esp dependency ejection) practices\n",
    "\n",
    "\\* Using Welch Lab's Youtube video series: Neural Networks Demystified as reference"
   ]
  },
  {
   "cell_type": "markdown",
   "metadata": {},
   "source": [
    "## Neural Network Implementation\n",
    "### Multilayer Perceptron\n",
    "The our current implementation of neural network will be a multilayer perceptron model. Here, we will have multiple perceptrons connected that pass information between forward to each other."
   ]
  },
  {
   "cell_type": "code",
   "execution_count": 2,
   "metadata": {
    "collapsed": true
   },
   "outputs": [],
   "source": [
    "class Neural_Network():\n",
    "    def __init__(self, layers=[2, 1, 3]):\n",
    "        self.inputLayerSize = 2\n",
    "        self.outputLayerSize = 1\n",
    "        self.hiddenLayerSize = 3\n",
    "    def forward(self, X):\n",
    "        #Propagate inputs through network\n",
    "        pass\n",
    "    "
   ]
  }
 ],
 "metadata": {
  "kernelspec": {
   "display_name": "Python 2",
   "language": "python",
   "name": "python2"
  },
  "language_info": {
   "codemirror_mode": {
    "name": "ipython",
    "version": 2
   },
   "file_extension": ".py",
   "mimetype": "text/x-python",
   "name": "python",
   "nbconvert_exporter": "python",
   "pygments_lexer": "ipython2",
   "version": "2.7.11"
  }
 },
 "nbformat": 4,
 "nbformat_minor": 0
}
